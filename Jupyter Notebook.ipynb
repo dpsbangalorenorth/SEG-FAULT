{
 "metadata": {
  "language_info": {
   "codemirror_mode": {
    "name": "ipython",
    "version": 3
   },
   "file_extension": ".py",
   "mimetype": "text/x-python",
   "name": "python",
   "nbconvert_exporter": "python",
   "pygments_lexer": "ipython3",
   "version": "3.8.6-final"
  },
  "orig_nbformat": 2,
  "kernelspec": {
   "name": "python3",
   "display_name": "Python 3.8.6 64-bit",
   "metadata": {
    "interpreter": {
     "hash": "3410afedb74081d81603511028deadddc25ba0f01c14e0cb891e2c2473f81884"
    }
   }
  }
 },
 "nbformat": 4,
 "nbformat_minor": 2,
 "cells": [
  {
   "cell_type": "code",
   "execution_count": 1,
   "metadata": {},
   "outputs": [
    {
     "output_type": "stream",
     "name": "stdout",
     "text": [
      "\n1 Time of Infection vs cases graph\n2 Time of Reporting vs cases graph\n3 Age vs cases graph\n4 Contraction chances because of Diabetic/Non-Diabetic\n5 Contraction chances because of Respiratory Illnesses/Non-Respiratory Illnesses\n6 Contraction chances because of Abnormal Blood Pressure/Normal Blood Pressure Illnesses\n7 Recovery vs Death\n8 Exit\n\n"
     ]
    },
    {
     "output_type": "error",
     "ename": "ValueError",
     "evalue": "invalid literal for int() with base 10: ''",
     "traceback": [
      "\u001b[1;31m---------------------------------------------------------------------------\u001b[0m",
      "\u001b[1;31mValueError\u001b[0m                                Traceback (most recent call last)",
      "\u001b[1;32m<ipython-input-1-4581680a7e91>\u001b[0m in \u001b[0;36m<module>\u001b[1;34m\u001b[0m\n\u001b[0;32m     44\u001b[0m \u001b[1;32mwhile\u001b[0m \u001b[1;32mTrue\u001b[0m\u001b[1;33m:\u001b[0m\u001b[1;33m\u001b[0m\u001b[1;33m\u001b[0m\u001b[0m\n\u001b[0;32m     45\u001b[0m     \u001b[0mprint\u001b[0m\u001b[1;33m(\u001b[0m\u001b[0moptions\u001b[0m\u001b[1;33m)\u001b[0m\u001b[1;33m\u001b[0m\u001b[1;33m\u001b[0m\u001b[0m\n\u001b[1;32m---> 46\u001b[1;33m     \u001b[0minputval\u001b[0m\u001b[1;33m=\u001b[0m\u001b[0mint\u001b[0m\u001b[1;33m(\u001b[0m\u001b[0minput\u001b[0m\u001b[1;33m(\u001b[0m\u001b[1;33m)\u001b[0m\u001b[1;33m)\u001b[0m\u001b[1;33m\u001b[0m\u001b[1;33m\u001b[0m\u001b[0m\n\u001b[0m\u001b[0;32m     47\u001b[0m     \u001b[1;32mif\u001b[0m \u001b[0minputval\u001b[0m\u001b[1;33m==\u001b[0m\u001b[1;36m1\u001b[0m\u001b[1;33m:\u001b[0m\u001b[1;33m\u001b[0m\u001b[1;33m\u001b[0m\u001b[0m\n\u001b[0;32m     48\u001b[0m         \u001b[0mdict1\u001b[0m\u001b[1;33m=\u001b[0m\u001b[0mCountFrequency\u001b[0m\u001b[1;33m(\u001b[0m\u001b[0mlistoftimeofinf\u001b[0m\u001b[1;33m)\u001b[0m\u001b[1;33m\u001b[0m\u001b[1;33m\u001b[0m\u001b[0m\n",
      "\u001b[1;31mValueError\u001b[0m: invalid literal for int() with base 10: ''"
     ]
    }
   ],
   "source": [
    "import csv\n",
    "import matplotlib\n",
    "import numpy as np\n",
    "import sys\n",
    "%matplotlib inline\n",
    "from matplotlib import pyplot as plt\n",
    "filename =\"C:\\\\Users\\\\Admin\\\\AppData\\\\Local\\\\Programs\\\\Python\\\\Python38\\\\New folder\\\\COVID_Dataset.csv\" \n",
    "list1=[]\n",
    "with open(filename, 'r') as data:\n",
    "    for line in csv.DictReader(data): \n",
    "        list1.append(line)\n",
    "\n",
    "listoftimeofinf,listoftimeofrep,xlocation,ylocation,Age,Diabetes,Respiratory,BP,outcome=[],[],[],[],[],[],[],[],[]\n",
    "for value in list1:\n",
    "    listoftimeofinf.append(int(value['Time of Infection']))\n",
    "    listoftimeofrep.append(int(value['Time of reporting']))\n",
    "    xlocation.append(int(value['x location']))\n",
    "    ylocation.append(int(value['y location']))\n",
    "    Age.append(int(value['Age']))\n",
    "    Diabetes.append(value['Diabetes'])\n",
    "    Respiratory.append(value['Respiratory Illnesses'])\n",
    "    BP.append(value['Abnormal Blood Pressure'])\n",
    "    outcome.append(value['Outcome'])\n",
    "\n",
    "def CountFrequency(my_list): \n",
    "   count = {} \n",
    "   for i in my_list: \n",
    "    count[i] = count.get(i, 0) + 1\n",
    "   return count\n",
    "\n",
    "superlist=[listoftimeofinf,listoftimeofrep,xlocation,ylocation,Age,Diabetes,Respiratory,BP,outcome]\n",
    "\n",
    "options='''\n",
    "1 Time of Infection vs cases graph\n",
    "2 Time of Reporting vs cases graph\n",
    "3 Age vs cases graph\n",
    "4 Contraction chances because of Diabetic/Non-Diabetic\n",
    "5 Contraction chances because of Respiratory Illnesses/Non-Respiratory Illnesses\n",
    "6 Contraction chances because of Abnormal Blood Pressure/Normal Blood Pressure Illnesses\n",
    "7 Recovery vs Death\n",
    "8 Exit\n",
    "'''\n",
    "\n",
    "while True:\n",
    "    print(options)\n",
    "    inputval=int(input())\n",
    "    if inputval==1:\n",
    "        dict1=CountFrequency(listoftimeofinf)\n",
    "        xpos=list(dict1.keys())\n",
    "        ypos=list(dict1.values())\n",
    "    elif inputval==2:\n",
    "        dict1=CountFrequency(listoftimeofrep)\n",
    "        xpos=list(dict1.keys())\n",
    "        ypos=list(dict1.values())\n",
    "    elif inputval==3:\n",
    "        plt.hist(Age,bins=range(min(Age),max(Age)+1))\n",
    "        plt.xlabel('Age')\n",
    "        plt.ylabel('Cases')\n",
    "        plt.show()\n",
    "    elif inputval==4:\n",
    "        histlist=[]\n",
    "        histlist1=[]\n",
    "        for j in Diabetes:\n",
    "            if j=='True':\n",
    "                histlist.append(int(1))\n",
    "            else:\n",
    "                histlist1.append(int(5))\n",
    "        plt.hist(histlist,bins=[0,2],facecolor='red',label='Diabetic')\n",
    "        plt.hist(histlist1,bins=[4,6],facecolor='blue',label='Non-Diabetic')\n",
    "        plt.tick_params(axis='x',which='both',bottom=False,top=False,labelbottom=False) \n",
    "        plt.legend(loc='best')\n",
    "        plt.xlabel('Diabetic/Non-Diabetic')\n",
    "        plt.ylabel('Cases')\n",
    "        plt.show()\n",
    "    elif inputval==5:\n",
    "        histlist=[]\n",
    "        histlist1=[]\n",
    "        for j in Respiratory:\n",
    "            if j=='True':\n",
    "                histlist.append(int(1))\n",
    "            else:\n",
    "                histlist1.append(int(5))\n",
    "        plt.hist(histlist,bins=[0,2],facecolor='red',label='Respiratory Illnesses')\n",
    "        plt.hist(histlist1,bins=[4,6],facecolor='blue',label='Non-Respiratory Illnesses')\n",
    "        plt.tick_params(axis='x',which='both',bottom=False,top=False,labelbottom=False) \n",
    "        plt.legend(loc='best')\n",
    "        plt.xlabel('Respiratory Illnesses/Non-Respiratory Illnesses')\n",
    "        plt.ylabel('Cases')\n",
    "        plt.show()\n",
    "    elif inputval==6:\n",
    "        histlist=[]\n",
    "        histlist1=[]\n",
    "        for j in BP:\n",
    "            if j=='True':\n",
    "                histlist.append(int(1))\n",
    "            else:\n",
    "                histlist1.append(int(5))\n",
    "        plt.hist(histlist,bins=[0,2],facecolor='red',label='Abnormal Blood Pressure')\n",
    "        plt.hist(histlist1,bins=[4,6],facecolor='blue',label='Normal Blood Pressure')\n",
    "        plt.tick_params(axis='x',which='both',bottom=False,top=False,labelbottom=False) \n",
    "        plt.legend(loc='best')\n",
    "        plt.xlabel('Blood Pressure Type')\n",
    "        plt.ylabel('Cases')\n",
    "        plt.show()\n",
    "    elif inputval==7:\n",
    "        histlist=[]\n",
    "        histlist1=[]\n",
    "        for j in outcome:\n",
    "            if j=='Dead':\n",
    "                histlist.append(int(1))\n",
    "            else:\n",
    "                histlist1.append(int(5))\n",
    "        plt.hist(histlist,bins=[0,2],facecolor='red',label='Dead')\n",
    "        plt.hist(histlist1,bins=[4,6],facecolor='blue',label='Alive')\n",
    "        plt.tick_params(axis='x',which='both',bottom=False,top=False,labelbottom=False) \n",
    "        plt.legend(loc='best')\n",
    "        plt.xlabel('Deaths')\n",
    "        plt.ylabel('Cases')\n",
    "        plt.show()\n",
    "    elif inputval==8:\n",
    "        break\n",
    "        sys.exit(0)\n",
    "    else:\n",
    "        print(\"Please enter values between 1 to 8\")\n",
    "        continue\n",
    "    plt.savefig('Image.png', dpi=1000)\n",
    "    \n",
    "    if inputval in [1,2]:\n",
    "        plt.scatter(xpos,ypos)\n",
    "        plt.ylabel('Cases')\n",
    "        plt.xlabel('Time')\n",
    "        plt.show()"
   ]
  },
  {
   "cell_type": "code",
   "execution_count": 3,
   "metadata": {},
   "outputs": [
    {
     "output_type": "execute_result",
     "data": {
      "text/plain": [
       "<matplotlib.colorbar.Colorbar at 0x267b8655d60>"
      ]
     },
     "metadata": {},
     "execution_count": 3
    },
    {
     "output_type": "display_data",
     "data": {
      "text/plain": "<Figure size 432x288 with 2 Axes>",
      "image/svg+xml": "<?xml version=\"1.0\" encoding=\"utf-8\" standalone=\"no\"?>\r\n<!DOCTYPE svg PUBLIC \"-//W3C//DTD SVG 1.1//EN\"\r\n  \"http://www.w3.org/Graphics/SVG/1.1/DTD/svg11.dtd\">\r\n<!-- Created with matplotlib (https://matplotlib.org/) -->\r\n<svg height=\"231.84pt\" version=\"1.1\" viewBox=\"0 0 279.177 231.84\" width=\"279.177pt\" xmlns=\"http://www.w3.org/2000/svg\" xmlns:xlink=\"http://www.w3.org/1999/xlink\">\r\n <metadata>\r\n  <rdf:RDF xmlns:cc=\"http://creativecommons.org/ns#\" xmlns:dc=\"http://purl.org/dc/elements/1.1/\" xmlns:rdf=\"http://www.w3.org/1999/02/22-rdf-syntax-ns#\">\r\n   <cc:Work>\r\n    <dc:type rdf:resource=\"http://purl.org/dc/dcmitype/StillImage\"/>\r\n    <dc:date>2020-11-20T05:06:52.229341</dc:date>\r\n    <dc:format>image/svg+xml</dc:format>\r\n    <dc:creator>\r\n     <cc:Agent>\r\n      <dc:title>Matplotlib v3.3.3, https://matplotlib.org/</dc:title>\r\n     </cc:Agent>\r\n    </dc:creator>\r\n   </cc:Work>\r\n  </rdf:RDF>\r\n </metadata>\r\n <defs>\r\n  <style type=\"text/css\">*{stroke-linecap:butt;stroke-linejoin:round;}</style>\r\n </defs>\r\n <g id=\"figure_1\">\r\n  <g id=\"patch_1\">\r\n   <path d=\"M 0 231.84 \r\nL 279.177 231.84 \r\nL 279.177 0 \r\nL 0 0 \r\nz\r\n\" style=\"fill:none;\"/>\r\n  </g>\r\n  <g id=\"axes_1\">\r\n   <g clip-path=\"url(#p55f4c49554)\">\r\n    <image height=\"100\" id=\"imageb6478eac43\" style=\"image-rendering:crisp-edges;image-rendering:pixelated\" transform=\"matrix(2.18 0 0 -2.18 7.2 224.64)\" width=\"100\" xlink:href=\"data:image/png;base64,\r\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\"/>\r\n   </g>\r\n  </g>\r\n  <g id=\"axes_2\">\r\n   <g id=\"patch_2\">\r\n    <path clip-path=\"url(#pcc88180b8d)\" d=\"M 241.38 224.64 \r\nL 241.38 223.790625 \r\nL 241.38 8.049375 \r\nL 241.38 7.2 \r\nL 252.252 7.2 \r\nL 252.252 8.049375 \r\nL 252.252 223.790625 \r\nL 252.252 224.64 \r\nz\r\n\" style=\"fill:#ffffff;stroke:#ffffff;stroke-linejoin:miter;stroke-width:0.01;\"/>\r\n   </g>\r\n   <image height=\"218\" id=\"image6db6dc9eb3\" transform=\"scale(1 -1)translate(0 -218)\" width=\"11\" x=\"241\" xlink:href=\"data:image/png;base64,\r\niVBORw0KGgoAAAANSUhEUgAAAAsAAADaCAYAAABwzrisAAABZ0lEQVR4nNXay23EMAwEUFGSU9mWkP4rSeK0oHcYgNozMZgfbdne+tT3Ow5/u9Y6nR171Dwfrlkh5CHIKFA4T+FsyCKQrFs5zjHk3LC5kapoG4GA/Fo3jmeTbrxU0SacYz6bG+csOJQcMoUCNIKhWJEEWdx4LW4Z7kGjiRuInFor3EFBzgm0uImGIHfphiD3KH/OjRvjDrpxIWfscwz5QutybvSwDuRd2g1Dnscve+7sMx4vQ25Y65JugEB8ho3R6FF+OF0mBdrwEIHiBtGomBu5UKZ1o4V1ADz2nH9CQ5CJc3D4eHbsJW5MWqse1plA2hRzQ5BjwzsWd45z0I2ibrQoEiE/8zdGI+XGitF4rPw5gTFkcqOkG4KcS5CQn/oRGqkEKRTawVzcWFFKkKyjqyggf1E3YqHYpphA2u5Y+WO3NrwUxG5Ax6Nj7EUnc3he2o98A5qCTDQM2TjDZ/en4M9Lgkyvs/4BiDuAaErWvBEAAAAASUVORK5CYII=\" y=\"-6\"/>\r\n   <g id=\"matplotlib.axis_1\"/>\r\n   <g id=\"matplotlib.axis_2\">\r\n    <g id=\"ytick_1\">\r\n     <g id=\"line2d_1\">\r\n      <defs>\r\n       <path d=\"M 0 0 \r\nL 3.5 0 \r\n\" id=\"m65c79759b6\" style=\"stroke:#000000;stroke-width:0.8;\"/>\r\n      </defs>\r\n      <g>\r\n       <use style=\"stroke:#000000;stroke-width:0.8;\" x=\"252.252\" xlink:href=\"#m65c79759b6\" y=\"179.944425\"/>\r\n      </g>\r\n     </g>\r\n     <g id=\"text_1\">\r\n      <!-- 5 -->\r\n      <g transform=\"translate(259.252 183.743643)scale(0.1 -0.1)\">\r\n       <defs>\r\n        <path d=\"M 10.796875 72.90625 \r\nL 49.515625 72.90625 \r\nL 49.515625 64.59375 \r\nL 19.828125 64.59375 \r\nL 19.828125 46.734375 \r\nQ 21.96875 47.46875 24.109375 47.828125 \r\nQ 26.265625 48.1875 28.421875 48.1875 \r\nQ 40.625 48.1875 47.75 41.5 \r\nQ 54.890625 34.8125 54.890625 23.390625 \r\nQ 54.890625 11.625 47.5625 5.09375 \r\nQ 40.234375 -1.421875 26.90625 -1.421875 \r\nQ 22.3125 -1.421875 17.546875 -0.640625 \r\nQ 12.796875 0.140625 7.71875 1.703125 \r\nL 7.71875 11.625 \r\nQ 12.109375 9.234375 16.796875 8.0625 \r\nQ 21.484375 6.890625 26.703125 6.890625 \r\nQ 35.15625 6.890625 40.078125 11.328125 \r\nQ 45.015625 15.765625 45.015625 23.390625 \r\nQ 45.015625 31 40.078125 35.4375 \r\nQ 35.15625 39.890625 26.703125 39.890625 \r\nQ 22.75 39.890625 18.8125 39.015625 \r\nQ 14.890625 38.140625 10.796875 36.28125 \r\nz\r\n\" id=\"DejaVuSans-53\"/>\r\n       </defs>\r\n       <use xlink:href=\"#DejaVuSans-53\"/>\r\n      </g>\r\n     </g>\r\n    </g>\r\n    <g id=\"ytick_2\">\r\n     <g id=\"line2d_2\">\r\n      <g>\r\n       <use style=\"stroke:#000000;stroke-width:0.8;\" x=\"252.252\" xlink:href=\"#m65c79759b6\" y=\"134.976315\"/>\r\n      </g>\r\n     </g>\r\n     <g id=\"text_2\">\r\n      <!-- 10 -->\r\n      <g transform=\"translate(259.252 138.775534)scale(0.1 -0.1)\">\r\n       <defs>\r\n        <path d=\"M 12.40625 8.296875 \r\nL 28.515625 8.296875 \r\nL 28.515625 63.921875 \r\nL 10.984375 60.40625 \r\nL 10.984375 69.390625 \r\nL 28.421875 72.90625 \r\nL 38.28125 72.90625 \r\nL 38.28125 8.296875 \r\nL 54.390625 8.296875 \r\nL 54.390625 0 \r\nL 12.40625 0 \r\nz\r\n\" id=\"DejaVuSans-49\"/>\r\n        <path d=\"M 31.78125 66.40625 \r\nQ 24.171875 66.40625 20.328125 58.90625 \r\nQ 16.5 51.421875 16.5 36.375 \r\nQ 16.5 21.390625 20.328125 13.890625 \r\nQ 24.171875 6.390625 31.78125 6.390625 \r\nQ 39.453125 6.390625 43.28125 13.890625 \r\nQ 47.125 21.390625 47.125 36.375 \r\nQ 47.125 51.421875 43.28125 58.90625 \r\nQ 39.453125 66.40625 31.78125 66.40625 \r\nz\r\nM 31.78125 74.21875 \r\nQ 44.046875 74.21875 50.515625 64.515625 \r\nQ 56.984375 54.828125 56.984375 36.375 \r\nQ 56.984375 17.96875 50.515625 8.265625 \r\nQ 44.046875 -1.421875 31.78125 -1.421875 \r\nQ 19.53125 -1.421875 13.0625 8.265625 \r\nQ 6.59375 17.96875 6.59375 36.375 \r\nQ 6.59375 54.828125 13.0625 64.515625 \r\nQ 19.53125 74.21875 31.78125 74.21875 \r\nz\r\n\" id=\"DejaVuSans-48\"/>\r\n       </defs>\r\n       <use xlink:href=\"#DejaVuSans-49\"/>\r\n       <use x=\"63.623047\" xlink:href=\"#DejaVuSans-48\"/>\r\n      </g>\r\n     </g>\r\n    </g>\r\n    <g id=\"ytick_3\">\r\n     <g id=\"line2d_3\">\r\n      <g>\r\n       <use style=\"stroke:#000000;stroke-width:0.8;\" x=\"252.252\" xlink:href=\"#m65c79759b6\" y=\"90.008206\"/>\r\n      </g>\r\n     </g>\r\n     <g id=\"text_3\">\r\n      <!-- 15 -->\r\n      <g transform=\"translate(259.252 93.807425)scale(0.1 -0.1)\">\r\n       <use xlink:href=\"#DejaVuSans-49\"/>\r\n       <use x=\"63.623047\" xlink:href=\"#DejaVuSans-53\"/>\r\n      </g>\r\n     </g>\r\n    </g>\r\n    <g id=\"ytick_4\">\r\n     <g id=\"line2d_4\">\r\n      <g>\r\n       <use style=\"stroke:#000000;stroke-width:0.8;\" x=\"252.252\" xlink:href=\"#m65c79759b6\" y=\"45.040096\"/>\r\n      </g>\r\n     </g>\r\n     <g id=\"text_4\">\r\n      <!-- 20 -->\r\n      <g transform=\"translate(259.252 48.839315)scale(0.1 -0.1)\">\r\n       <defs>\r\n        <path d=\"M 19.1875 8.296875 \r\nL 53.609375 8.296875 \r\nL 53.609375 0 \r\nL 7.328125 0 \r\nL 7.328125 8.296875 \r\nQ 12.9375 14.109375 22.625 23.890625 \r\nQ 32.328125 33.6875 34.8125 36.53125 \r\nQ 39.546875 41.84375 41.421875 45.53125 \r\nQ 43.3125 49.21875 43.3125 52.78125 \r\nQ 43.3125 58.59375 39.234375 62.25 \r\nQ 35.15625 65.921875 28.609375 65.921875 \r\nQ 23.96875 65.921875 18.8125 64.3125 \r\nQ 13.671875 62.703125 7.8125 59.421875 \r\nL 7.8125 69.390625 \r\nQ 13.765625 71.78125 18.9375 73 \r\nQ 24.125 74.21875 28.421875 74.21875 \r\nQ 39.75 74.21875 46.484375 68.546875 \r\nQ 53.21875 62.890625 53.21875 53.421875 \r\nQ 53.21875 48.921875 51.53125 44.890625 \r\nQ 49.859375 40.875 45.40625 35.40625 \r\nQ 44.1875 33.984375 37.640625 27.21875 \r\nQ 31.109375 20.453125 19.1875 8.296875 \r\nz\r\n\" id=\"DejaVuSans-50\"/>\r\n       </defs>\r\n       <use xlink:href=\"#DejaVuSans-50\"/>\r\n       <use x=\"63.623047\" xlink:href=\"#DejaVuSans-48\"/>\r\n      </g>\r\n     </g>\r\n    </g>\r\n   </g>\r\n   <g id=\"patch_3\">\r\n    <path d=\"M 241.38 224.64 \r\nL 241.38 223.790625 \r\nL 241.38 8.049375 \r\nL 241.38 7.2 \r\nL 252.252 7.2 \r\nL 252.252 8.049375 \r\nL 252.252 223.790625 \r\nL 252.252 224.64 \r\nz\r\n\" style=\"fill:none;stroke:#000000;stroke-linejoin:miter;stroke-width:0.8;\"/>\r\n   </g>\r\n  </g>\r\n </g>\r\n <defs>\r\n  <clipPath id=\"p55f4c49554\">\r\n   <rect height=\"217.44\" width=\"217.44\" x=\"7.2\" y=\"7.2\"/>\r\n  </clipPath>\r\n  <clipPath id=\"pcc88180b8d\">\r\n   <rect height=\"217.44\" width=\"10.872\" x=\"241.38\" y=\"7.2\"/>\r\n  </clipPath>\r\n </defs>\r\n</svg>\r\n",
      "image/png": "[encoded data removed]"
     },
     "metadata": {
      "needs_background": "light"
     }
    }
   ],
   "source": [
    "import csv\n",
    "import matplotlib\n",
    "import numpy as np\n",
    "import sys\n",
    "import random\n",
    "%matplotlib inline\n",
    "from matplotlib import pyplot as plt\n",
    "dataset =\"C:\\\\Users\\\\Admin\\\\AppData\\\\Local\\\\Programs\\\\Python\\\\Python38\\\\New folder\\\\COVID_Dataset.csv\"\n",
    "population=\"Population.csv\"\n",
    "\n",
    "list1=[]\n",
    "with open(dataset, 'r') as data:\n",
    "    for line in csv.DictReader(data): \n",
    "        list1.append(line)\n",
    "\n",
    "xlocation,ylocation=[],[]\n",
    "\n",
    "for value in list1:\n",
    "    xlocation.append(int(value['x location']))\n",
    "    ylocation.append(int(value['y location']))\n",
    "\n",
    "def distance_2d(x_point, y_point, x, y):\n",
    "    return np.hypot(x-x_point, y-y_point)\n",
    "\n",
    "ys, xs = np.ogrid[1:20:100j, 1:20:100j]\n",
    "distances = distance_2d(xlocation[random.randint(0,len(xlocation))],ylocation[random.randint(0,len(ylocation))], xs, ys)\n",
    "plt.figure()\n",
    "plt.title('')\n",
    "plt.imshow(distances, origin='lower', interpolation=\"none\")\n",
    "plt.xticks(np.arange(xs.shape[1]), xs.ravel())\n",
    "plt.yticks(np.arange(ys.shape[0]), ys.ravel())\n",
    "plt.axis('off')\n",
    "plt.colorbar()"
   ]
  },
  {
   "cell_type": "code",
   "execution_count": null,
   "metadata": {},
   "outputs": [],
   "source": []
  }
 ]
}